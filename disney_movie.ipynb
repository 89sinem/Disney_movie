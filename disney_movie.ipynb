{
 "cells": [
  {
   "cell_type": "code",
   "execution_count": null,
   "id": "7941eb0b",
   "metadata": {},
   "outputs": [],
   "source": []
  },
  {
   "cell_type": "code",
   "execution_count": null,
   "id": "dd8710a3",
   "metadata": {},
   "outputs": [],
   "source": []
  },
  {
   "cell_type": "markdown",
   "id": "3aeaca88",
   "metadata": {},
   "source": [
    "## Step 1: Importing Libraries\n"
   ]
  },
  {
   "cell_type": "code",
   "execution_count": 1,
   "id": "564fb144-78b4-42dd-809b-20d2b34d9991",
   "metadata": {
    "tags": []
   },
   "outputs": [],
   "source": [
    "import pandas as pd\n",
    "import numpy as np\n",
    "import matplotlib.pyplot as plt\n",
    "import seaborn as sns\n",
    "import matplotlib.patches as mpatches\n",
    "from sklearn.preprocessing import StandardScaler\n",
    "from sklearn.cluster import KMeans\n",
    "from matplotlib.ticker import FuncFormatter"
   ]
  },
  {
   "cell_type": "code",
   "execution_count": 2,
   "id": "0e59dd6f-24c0-40d8-8f41-a9c2b1b5f01f",
   "metadata": {
    "tags": []
   },
   "outputs": [],
   "source": [
    "pd.set_option('display.float_format', '{:.2f}'.format)"
   ]
  },
  {
   "cell_type": "code",
   "execution_count": null,
   "id": "0da7a114",
   "metadata": {},
   "outputs": [],
   "source": []
  },
  {
   "cell_type": "markdown",
   "id": "e083f07c",
   "metadata": {},
   "source": [
    "## Step 2: Loading the Dataset"
   ]
  },
  {
   "cell_type": "code",
   "execution_count": 3,
   "id": "c87bb077-f0ec-4b8d-832e-1e29580ecfa2",
   "metadata": {
    "tags": []
   },
   "outputs": [
    {
     "data": {
      "text/html": [
       "<div>\n",
       "<style scoped>\n",
       "    .dataframe tbody tr th:only-of-type {\n",
       "        vertical-align: middle;\n",
       "    }\n",
       "\n",
       "    .dataframe tbody tr th {\n",
       "        vertical-align: top;\n",
       "    }\n",
       "\n",
       "    .dataframe thead th {\n",
       "        text-align: right;\n",
       "    }\n",
       "</style>\n",
       "<table border=\"1\" class=\"dataframe\">\n",
       "  <thead>\n",
       "    <tr style=\"text-align: right;\">\n",
       "      <th></th>\n",
       "      <th>movie_title</th>\n",
       "      <th>release_date</th>\n",
       "      <th>genre</th>\n",
       "      <th>mpaa_rating</th>\n",
       "      <th>total_gross</th>\n",
       "      <th>inflation_adjusted_gross</th>\n",
       "    </tr>\n",
       "  </thead>\n",
       "  <tbody>\n",
       "    <tr>\n",
       "      <th>0</th>\n",
       "      <td>Snow White and the Seven Dwarfs</td>\n",
       "      <td>1937-12-21</td>\n",
       "      <td>Musical</td>\n",
       "      <td>G</td>\n",
       "      <td>184925485</td>\n",
       "      <td>5228953251</td>\n",
       "    </tr>\n",
       "    <tr>\n",
       "      <th>1</th>\n",
       "      <td>Pinocchio</td>\n",
       "      <td>1940-02-09</td>\n",
       "      <td>Adventure</td>\n",
       "      <td>G</td>\n",
       "      <td>84300000</td>\n",
       "      <td>2188229052</td>\n",
       "    </tr>\n",
       "    <tr>\n",
       "      <th>2</th>\n",
       "      <td>Fantasia</td>\n",
       "      <td>1940-11-13</td>\n",
       "      <td>Musical</td>\n",
       "      <td>G</td>\n",
       "      <td>83320000</td>\n",
       "      <td>2187090808</td>\n",
       "    </tr>\n",
       "    <tr>\n",
       "      <th>3</th>\n",
       "      <td>Song of the South</td>\n",
       "      <td>1946-11-12</td>\n",
       "      <td>Adventure</td>\n",
       "      <td>G</td>\n",
       "      <td>65000000</td>\n",
       "      <td>1078510579</td>\n",
       "    </tr>\n",
       "    <tr>\n",
       "      <th>4</th>\n",
       "      <td>Cinderella</td>\n",
       "      <td>1950-02-15</td>\n",
       "      <td>Drama</td>\n",
       "      <td>G</td>\n",
       "      <td>85000000</td>\n",
       "      <td>920608730</td>\n",
       "    </tr>\n",
       "    <tr>\n",
       "      <th>...</th>\n",
       "      <td>...</td>\n",
       "      <td>...</td>\n",
       "      <td>...</td>\n",
       "      <td>...</td>\n",
       "      <td>...</td>\n",
       "      <td>...</td>\n",
       "    </tr>\n",
       "    <tr>\n",
       "      <th>574</th>\n",
       "      <td>The Light Between Oceans</td>\n",
       "      <td>2016-09-02</td>\n",
       "      <td>Drama</td>\n",
       "      <td>PG-13</td>\n",
       "      <td>12545979</td>\n",
       "      <td>12545979</td>\n",
       "    </tr>\n",
       "    <tr>\n",
       "      <th>575</th>\n",
       "      <td>Queen of Katwe</td>\n",
       "      <td>2016-09-23</td>\n",
       "      <td>Drama</td>\n",
       "      <td>PG</td>\n",
       "      <td>8874389</td>\n",
       "      <td>8874389</td>\n",
       "    </tr>\n",
       "    <tr>\n",
       "      <th>576</th>\n",
       "      <td>Doctor Strange</td>\n",
       "      <td>2016-11-04</td>\n",
       "      <td>Adventure</td>\n",
       "      <td>PG-13</td>\n",
       "      <td>232532923</td>\n",
       "      <td>232532923</td>\n",
       "    </tr>\n",
       "    <tr>\n",
       "      <th>577</th>\n",
       "      <td>Moana</td>\n",
       "      <td>2016-11-23</td>\n",
       "      <td>Adventure</td>\n",
       "      <td>PG</td>\n",
       "      <td>246082029</td>\n",
       "      <td>246082029</td>\n",
       "    </tr>\n",
       "    <tr>\n",
       "      <th>578</th>\n",
       "      <td>Rogue One: A Star Wars Story</td>\n",
       "      <td>2016-12-16</td>\n",
       "      <td>Adventure</td>\n",
       "      <td>PG-13</td>\n",
       "      <td>529483936</td>\n",
       "      <td>529483936</td>\n",
       "    </tr>\n",
       "  </tbody>\n",
       "</table>\n",
       "<p>579 rows × 6 columns</p>\n",
       "</div>"
      ],
      "text/plain": [
       "                         movie_title release_date      genre mpaa_rating  \\\n",
       "0    Snow White and the Seven Dwarfs   1937-12-21    Musical           G   \n",
       "1                          Pinocchio   1940-02-09  Adventure           G   \n",
       "2                           Fantasia   1940-11-13    Musical           G   \n",
       "3                  Song of the South   1946-11-12  Adventure           G   \n",
       "4                         Cinderella   1950-02-15      Drama           G   \n",
       "..                               ...          ...        ...         ...   \n",
       "574         The Light Between Oceans   2016-09-02      Drama       PG-13   \n",
       "575                   Queen of Katwe   2016-09-23      Drama          PG   \n",
       "576                   Doctor Strange   2016-11-04  Adventure       PG-13   \n",
       "577                            Moana   2016-11-23  Adventure          PG   \n",
       "578     Rogue One: A Star Wars Story   2016-12-16  Adventure       PG-13   \n",
       "\n",
       "     total_gross  inflation_adjusted_gross  \n",
       "0      184925485                5228953251  \n",
       "1       84300000                2188229052  \n",
       "2       83320000                2187090808  \n",
       "3       65000000                1078510579  \n",
       "4       85000000                 920608730  \n",
       "..           ...                       ...  \n",
       "574     12545979                  12545979  \n",
       "575      8874389                   8874389  \n",
       "576    232532923                 232532923  \n",
       "577    246082029                 246082029  \n",
       "578    529483936                 529483936  \n",
       "\n",
       "[579 rows x 6 columns]"
      ]
     },
     "execution_count": 3,
     "metadata": {},
     "output_type": "execute_result"
    }
   ],
   "source": [
    "disney = pd.read_csv(r'disney_movies.csv')\n",
    "disney"
   ]
  },
  {
   "cell_type": "code",
   "execution_count": null,
   "id": "0b142eaa",
   "metadata": {},
   "outputs": [],
   "source": []
  },
  {
   "cell_type": "markdown",
   "id": "502435a1",
   "metadata": {},
   "source": [
    "## Step 3: Exploring the Dataset"
   ]
  },
  {
   "cell_type": "code",
   "execution_count": 4,
   "id": "5333aa7e-5db1-436f-ba5f-ad3df15fb7b7",
   "metadata": {
    "tags": []
   },
   "outputs": [
    {
     "name": "stdout",
     "output_type": "stream",
     "text": [
      "<class 'pandas.core.frame.DataFrame'>\n",
      "RangeIndex: 579 entries, 0 to 578\n",
      "Data columns (total 6 columns):\n",
      " #   Column                    Non-Null Count  Dtype \n",
      "---  ------                    --------------  ----- \n",
      " 0   movie_title               579 non-null    object\n",
      " 1   release_date              579 non-null    object\n",
      " 2   genre                     562 non-null    object\n",
      " 3   mpaa_rating               523 non-null    object\n",
      " 4   total_gross               579 non-null    int64 \n",
      " 5   inflation_adjusted_gross  579 non-null    int64 \n",
      "dtypes: int64(2), object(4)\n",
      "memory usage: 27.3+ KB\n"
     ]
    }
   ],
   "source": [
    "disney.info()"
   ]
  },
  {
   "cell_type": "code",
   "execution_count": 5,
   "id": "a514dede-4038-4c54-9701-6d351fb7fbef",
   "metadata": {
    "tags": []
   },
   "outputs": [
    {
     "data": {
      "text/plain": [
       "movie_title                  0\n",
       "release_date                 0\n",
       "genre                       17\n",
       "mpaa_rating                 56\n",
       "total_gross                  0\n",
       "inflation_adjusted_gross     0\n",
       "dtype: int64"
      ]
     },
     "execution_count": 5,
     "metadata": {},
     "output_type": "execute_result"
    }
   ],
   "source": [
    "disney.isnull().sum()"
   ]
  },
  {
   "cell_type": "code",
   "execution_count": 6,
   "id": "8dd9f4d2-ff11-4e3d-b189-35ab3780dc87",
   "metadata": {
    "tags": []
   },
   "outputs": [
    {
     "data": {
      "text/plain": [
       "movie_title                  0\n",
       "release_date                 0\n",
       "genre                       17\n",
       "mpaa_rating                 56\n",
       "total_gross                  0\n",
       "inflation_adjusted_gross     0\n",
       "dtype: int64"
      ]
     },
     "execution_count": 6,
     "metadata": {},
     "output_type": "execute_result"
    }
   ],
   "source": [
    "disney.isna().sum()"
   ]
  },
  {
   "cell_type": "code",
   "execution_count": 7,
   "id": "b7963a2a",
   "metadata": {},
   "outputs": [
    {
     "name": "stdout",
     "output_type": "stream",
     "text": [
      "movie_title                0.00\n",
      "release_date               0.00\n",
      "genre                      2.94\n",
      "mpaa_rating                9.67\n",
      "total_gross                0.00\n",
      "inflation_adjusted_gross   0.00\n",
      "dtype: float64\n"
     ]
    }
   ],
   "source": [
    "# Calculate the percentage of missing values for each column\n",
    "missing_percentage = disney.isnull().sum() / len(disney) * 100\n",
    "\n",
    "# Display the percentage of missing values\n",
    "print(missing_percentage)"
   ]
  },
  {
   "cell_type": "code",
   "execution_count": 8,
   "id": "debfa770-2f46-4dfd-9723-7fc40a6b0c2f",
   "metadata": {
    "tags": []
   },
   "outputs": [
    {
     "data": {
      "text/plain": [
       "Index(['movie_title', 'release_date', 'genre', 'mpaa_rating', 'total_gross',\n",
       "       'inflation_adjusted_gross'],\n",
       "      dtype='object')"
      ]
     },
     "execution_count": 8,
     "metadata": {},
     "output_type": "execute_result"
    }
   ],
   "source": [
    "disney.columns"
   ]
  },
  {
   "cell_type": "code",
   "execution_count": null,
   "id": "bffa0a53",
   "metadata": {},
   "outputs": [],
   "source": []
  },
  {
   "cell_type": "markdown",
   "id": "78adf45f",
   "metadata": {},
   "source": [
    "## Step 4: Converting release_date to Datetime"
   ]
  },
  {
   "cell_type": "code",
   "execution_count": 9,
   "id": "d81b4a6d-5fa8-4e0f-8c34-5acefa2aa621",
   "metadata": {
    "tags": []
   },
   "outputs": [
    {
     "data": {
      "text/plain": [
       "dtype('O')"
      ]
     },
     "execution_count": 9,
     "metadata": {},
     "output_type": "execute_result"
    }
   ],
   "source": [
    "disney['release_date'].dtype"
   ]
  },
  {
   "cell_type": "code",
   "execution_count": 10,
   "id": "23f292ec-3625-44f0-b0d4-9282671bda55",
   "metadata": {
    "tags": []
   },
   "outputs": [
    {
     "name": "stdout",
     "output_type": "stream",
     "text": [
      "<class 'pandas.core.frame.DataFrame'>\n",
      "RangeIndex: 579 entries, 0 to 578\n",
      "Data columns (total 6 columns):\n",
      " #   Column                    Non-Null Count  Dtype         \n",
      "---  ------                    --------------  -----         \n",
      " 0   movie_title               579 non-null    object        \n",
      " 1   release_date              579 non-null    datetime64[ns]\n",
      " 2   genre                     562 non-null    object        \n",
      " 3   mpaa_rating               523 non-null    object        \n",
      " 4   total_gross               579 non-null    int64         \n",
      " 5   inflation_adjusted_gross  579 non-null    int64         \n",
      "dtypes: datetime64[ns](1), int64(2), object(3)\n",
      "memory usage: 27.3+ KB\n"
     ]
    }
   ],
   "source": [
    "# Change the 'release_date' column to datetime\n",
    "disney['release_date'] = pd.to_datetime(disney['release_date'])\n",
    "disney.info()"
   ]
  },
  {
   "cell_type": "code",
   "execution_count": null,
   "id": "d5e63950",
   "metadata": {},
   "outputs": [],
   "source": []
  },
  {
   "cell_type": "markdown",
   "id": "226e9a8c",
   "metadata": {},
   "source": [
    "## Step 5: Analyzing Columns"
   ]
  },
  {
   "cell_type": "markdown",
   "id": "67dfe319",
   "metadata": {},
   "source": [
    "### Check for duplicates in movie_title:"
   ]
  },
  {
   "cell_type": "code",
   "execution_count": 11,
   "id": "543da25e-428b-4728-83df-718278278355",
   "metadata": {
    "tags": []
   },
   "outputs": [
    {
     "name": "stdout",
     "output_type": "stream",
     "text": [
      "Unique titles: 573\n"
     ]
    }
   ],
   "source": [
    "# Count unique movie titles and check for duplicates\n",
    "unique_titles_count = disney['movie_title'].nunique()\n",
    "print(f\"Unique titles: {unique_titles_count}\")"
   ]
  },
  {
   "cell_type": "markdown",
   "id": "a056e448",
   "metadata": {},
   "source": [
    "### Further investigation on Genre for NaN and Missing Values"
   ]
  },
  {
   "cell_type": "code",
   "execution_count": 12,
   "id": "24a3cb65",
   "metadata": {
    "scrolled": true
   },
   "outputs": [
    {
     "name": "stdout",
     "output_type": "stream",
     "text": [
      "genre\n",
      "Comedy                 182\n",
      "Adventure              129\n",
      "Drama                  114\n",
      "Action                  40\n",
      "Thriller/Suspense       24\n",
      "Romantic Comedy         23\n",
      "NaN                     17\n",
      "Musical                 16\n",
      "Documentary             16\n",
      "Western                  7\n",
      "Horror                   6\n",
      "Black Comedy             3\n",
      "Concert/Performance      2\n",
      "Name: count, dtype: int64\n"
     ]
    }
   ],
   "source": [
    "# Get the frequency count of unique genres\n",
    "genre_counts = disney['genre'].value_counts(dropna=False)\n",
    "print(genre_counts)"
   ]
  },
  {
   "cell_type": "markdown",
   "id": "5bda85c2",
   "metadata": {},
   "source": [
    "**NOTE: We have total 17 NaN Values.**"
   ]
  },
  {
   "cell_type": "code",
   "execution_count": null,
   "id": "c85eb663",
   "metadata": {},
   "outputs": [],
   "source": []
  },
  {
   "cell_type": "markdown",
   "id": "473ed1bf",
   "metadata": {},
   "source": [
    "### Further investigation on Rating for NaN and Missing Values"
   ]
  },
  {
   "cell_type": "code",
   "execution_count": 13,
   "id": "2ce25e1d",
   "metadata": {
    "scrolled": true
   },
   "outputs": [
    {
     "name": "stdout",
     "output_type": "stream",
     "text": [
      "mpaa_rating\n",
      "PG           187\n",
      "PG-13        145\n",
      "R            102\n",
      "G             86\n",
      "NaN           56\n",
      "Not Rated      3\n",
      "Name: count, dtype: int64\n"
     ]
    }
   ],
   "source": [
    "mpaa_rating_counts = disney['mpaa_rating'].value_counts(dropna=False)\n",
    "print(mpaa_rating_counts)"
   ]
  },
  {
   "cell_type": "markdown",
   "id": "db082493",
   "metadata": {},
   "source": [
    "**NOTE: The \"NaN\" and \"Not Rated\" together are both considered missing values. So, we can combine them. The total will be 59.**"
   ]
  },
  {
   "cell_type": "code",
   "execution_count": null,
   "id": "43d44a36",
   "metadata": {},
   "outputs": [],
   "source": []
  },
  {
   "cell_type": "markdown",
   "id": "eaa45547",
   "metadata": {},
   "source": [
    "## Step 6: Finding Duplicate Titles"
   ]
  },
  {
   "cell_type": "code",
   "execution_count": 14,
   "id": "f35dc92f-fd8a-4966-b9e3-3ccacfd37909",
   "metadata": {
    "tags": []
   },
   "outputs": [
    {
     "data": {
      "text/plain": [
       "movie_title\n",
       "The Jungle Book                 3\n",
       "Freaky Friday                   2\n",
       "Cinderella                      2\n",
       "Bad Company                     2\n",
       "101 Dalmatians                  2\n",
       "                               ..\n",
       "Quiz Show                       1\n",
       "A Simple Twist of Fate          1\n",
       "It's Pat                        1\n",
       "Camp Nowhere                    1\n",
       "Rogue One: A Star Wars Story    1\n",
       "Name: count, Length: 573, dtype: int64"
      ]
     },
     "execution_count": 14,
     "metadata": {},
     "output_type": "execute_result"
    }
   ],
   "source": [
    "# Get the counts of each movie title\n",
    "title_counts = disney['movie_title'].value_counts(dropna=False)\n",
    "title_counts"
   ]
  },
  {
   "cell_type": "code",
   "execution_count": 15,
   "id": "f31c542c",
   "metadata": {},
   "outputs": [
    {
     "name": "stdout",
     "output_type": "stream",
     "text": [
      "movie_title\n",
      "The Jungle Book    3\n",
      "Freaky Friday      2\n",
      "Cinderella         2\n",
      "Bad Company        2\n",
      "101 Dalmatians     2\n",
      "Name: count, dtype: int64\n"
     ]
    }
   ],
   "source": [
    "print(title_counts[title_counts > 1])"
   ]
  },
  {
   "cell_type": "code",
   "execution_count": 16,
   "id": "fbbcbee1",
   "metadata": {},
   "outputs": [
    {
     "name": "stdout",
     "output_type": "stream",
     "text": [
      "Index(['The Jungle Book', 'Freaky Friday', 'Cinderella', 'Bad Company',\n",
      "       '101 Dalmatians'],\n",
      "      dtype='object', name='movie_title')\n"
     ]
    }
   ],
   "source": [
    "print(title_counts[title_counts > 1].index)"
   ]
  },
  {
   "cell_type": "code",
   "execution_count": 17,
   "id": "4a2330ce",
   "metadata": {},
   "outputs": [
    {
     "data": {
      "text/html": [
       "<div>\n",
       "<style scoped>\n",
       "    .dataframe tbody tr th:only-of-type {\n",
       "        vertical-align: middle;\n",
       "    }\n",
       "\n",
       "    .dataframe tbody tr th {\n",
       "        vertical-align: top;\n",
       "    }\n",
       "\n",
       "    .dataframe thead th {\n",
       "        text-align: right;\n",
       "    }\n",
       "</style>\n",
       "<table border=\"1\" class=\"dataframe\">\n",
       "  <thead>\n",
       "    <tr style=\"text-align: right;\">\n",
       "      <th></th>\n",
       "      <th>movie_title</th>\n",
       "      <th>release_date</th>\n",
       "      <th>genre</th>\n",
       "      <th>mpaa_rating</th>\n",
       "      <th>total_gross</th>\n",
       "      <th>inflation_adjusted_gross</th>\n",
       "    </tr>\n",
       "  </thead>\n",
       "  <tbody>\n",
       "    <tr>\n",
       "      <th>4</th>\n",
       "      <td>Cinderella</td>\n",
       "      <td>1950-02-15</td>\n",
       "      <td>Drama</td>\n",
       "      <td>G</td>\n",
       "      <td>85000000</td>\n",
       "      <td>920608730</td>\n",
       "    </tr>\n",
       "    <tr>\n",
       "      <th>8</th>\n",
       "      <td>101 Dalmatians</td>\n",
       "      <td>1961-01-25</td>\n",
       "      <td>Comedy</td>\n",
       "      <td>G</td>\n",
       "      <td>153000000</td>\n",
       "      <td>1362870985</td>\n",
       "    </tr>\n",
       "    <tr>\n",
       "      <th>13</th>\n",
       "      <td>The Jungle Book</td>\n",
       "      <td>1967-10-18</td>\n",
       "      <td>Musical</td>\n",
       "      <td>Not Rated</td>\n",
       "      <td>141843000</td>\n",
       "      <td>789612346</td>\n",
       "    </tr>\n",
       "    <tr>\n",
       "      <th>19</th>\n",
       "      <td>Freaky Friday</td>\n",
       "      <td>1977-01-21</td>\n",
       "      <td>Comedy</td>\n",
       "      <td>NaN</td>\n",
       "      <td>25942000</td>\n",
       "      <td>98067733</td>\n",
       "    </tr>\n",
       "    <tr>\n",
       "      <th>194</th>\n",
       "      <td>The Jungle Book</td>\n",
       "      <td>1994-12-25</td>\n",
       "      <td>Adventure</td>\n",
       "      <td>PG</td>\n",
       "      <td>44342956</td>\n",
       "      <td>88930321</td>\n",
       "    </tr>\n",
       "    <tr>\n",
       "      <th>196</th>\n",
       "      <td>Bad Company</td>\n",
       "      <td>1995-01-20</td>\n",
       "      <td>Thriller/Suspense</td>\n",
       "      <td>R</td>\n",
       "      <td>3523909</td>\n",
       "      <td>6829092</td>\n",
       "    </tr>\n",
       "    <tr>\n",
       "      <th>252</th>\n",
       "      <td>101 Dalmatians</td>\n",
       "      <td>1996-11-27</td>\n",
       "      <td>Comedy</td>\n",
       "      <td>G</td>\n",
       "      <td>136189294</td>\n",
       "      <td>258728898</td>\n",
       "    </tr>\n",
       "    <tr>\n",
       "      <th>364</th>\n",
       "      <td>Bad Company</td>\n",
       "      <td>2002-06-07</td>\n",
       "      <td>Action</td>\n",
       "      <td>PG-13</td>\n",
       "      <td>30157016</td>\n",
       "      <td>43756218</td>\n",
       "    </tr>\n",
       "    <tr>\n",
       "      <th>386</th>\n",
       "      <td>Freaky Friday</td>\n",
       "      <td>2003-08-06</td>\n",
       "      <td>Comedy</td>\n",
       "      <td>PG</td>\n",
       "      <td>110222438</td>\n",
       "      <td>154090360</td>\n",
       "    </tr>\n",
       "    <tr>\n",
       "      <th>556</th>\n",
       "      <td>Cinderella</td>\n",
       "      <td>2015-03-13</td>\n",
       "      <td>Drama</td>\n",
       "      <td>PG</td>\n",
       "      <td>201151353</td>\n",
       "      <td>201151353</td>\n",
       "    </tr>\n",
       "    <tr>\n",
       "      <th>567</th>\n",
       "      <td>The Jungle Book</td>\n",
       "      <td>2016-04-15</td>\n",
       "      <td>Adventure</td>\n",
       "      <td>PG</td>\n",
       "      <td>364001123</td>\n",
       "      <td>364001123</td>\n",
       "    </tr>\n",
       "  </tbody>\n",
       "</table>\n",
       "</div>"
      ],
      "text/plain": [
       "         movie_title release_date              genre mpaa_rating  total_gross  \\\n",
       "4         Cinderella   1950-02-15              Drama           G     85000000   \n",
       "8     101 Dalmatians   1961-01-25             Comedy           G    153000000   \n",
       "13   The Jungle Book   1967-10-18            Musical   Not Rated    141843000   \n",
       "19     Freaky Friday   1977-01-21             Comedy         NaN     25942000   \n",
       "194  The Jungle Book   1994-12-25          Adventure          PG     44342956   \n",
       "196      Bad Company   1995-01-20  Thriller/Suspense           R      3523909   \n",
       "252   101 Dalmatians   1996-11-27             Comedy           G    136189294   \n",
       "364      Bad Company   2002-06-07             Action       PG-13     30157016   \n",
       "386    Freaky Friday   2003-08-06             Comedy          PG    110222438   \n",
       "556       Cinderella   2015-03-13              Drama          PG    201151353   \n",
       "567  The Jungle Book   2016-04-15          Adventure          PG    364001123   \n",
       "\n",
       "     inflation_adjusted_gross  \n",
       "4                   920608730  \n",
       "8                  1362870985  \n",
       "13                  789612346  \n",
       "19                   98067733  \n",
       "194                  88930321  \n",
       "196                   6829092  \n",
       "252                 258728898  \n",
       "364                  43756218  \n",
       "386                 154090360  \n",
       "556                 201151353  \n",
       "567                 364001123  "
      ]
     },
     "metadata": {},
     "output_type": "display_data"
    }
   ],
   "source": [
    "# Find movie titles that appear more than once\n",
    "duplicate_titles = title_counts[title_counts > 1].index\n",
    "\n",
    "# Filter the DataFrame to include only rows with duplicate movie titles\n",
    "duplicates_df = disney[disney['movie_title'].isin(duplicate_titles)]\n",
    "display(duplicates_df)"
   ]
  },
  {
   "cell_type": "code",
   "execution_count": null,
   "id": "10b6c676",
   "metadata": {},
   "outputs": [],
   "source": []
  },
  {
   "cell_type": "markdown",
   "id": "e03f2ff4",
   "metadata": {},
   "source": [
    "## Step 7: Dealing with NaN and Not Rated Values"
   ]
  },
  {
   "cell_type": "code",
   "execution_count": 18,
   "id": "1a4ca736-ae7d-4e96-b7a9-bd22f1be488c",
   "metadata": {
    "tags": []
   },
   "outputs": [
    {
     "name": "stdout",
     "output_type": "stream",
     "text": [
      "mpaa_rating           G  Not Rated  PG  PG-13   R\n",
      "genre                                            \n",
      "Action                0          4   5     19  12\n",
      "Adventure            42         10  57     17   3\n",
      "Black Comedy          0          0   0      0   3\n",
      "Comedy               17         21  77     37  30\n",
      "Concert/Performance   2          0   0      0   0\n",
      "Documentary          10          1   5      0   0\n",
      "Drama                 5         11  28     37  33\n",
      "Horror                0          1   0      1   4\n",
      "Musical               9          2   4      1   0\n",
      "None                  0          7   2      4   4\n",
      "Romantic Comedy       1          1   7     12   2\n",
      "Thriller/Suspense     0          1   1     13   9\n",
      "Western               0          0   1      4   2\n"
     ]
    }
   ],
   "source": [
    "# Check for NaN values in both 'genre' and 'mpaa_rating' columns\n",
    "disney['genre'] = disney['genre'].fillna('None')\n",
    "disney['mpaa_rating'] = disney['mpaa_rating'].fillna('Not Rated')\n",
    "\n",
    "# Ensure the data types are consistent to str\n",
    "disney['genre'] = disney['genre'].astype(str)\n",
    "disney['mpaa_rating'] = disney['mpaa_rating'].astype(str)\n",
    "\n",
    "# Create the crosstab with all categories included\n",
    "genre_rating_table = pd.crosstab(disney['genre'], disney['mpaa_rating'], dropna=False)\n",
    "\n",
    "# Sort the index to match R output if necessary\n",
    "genre_rating_table = genre_rating_table.sort_index()\n",
    "\n",
    "# Print the crosstab\n",
    "print(genre_rating_table)"
   ]
  },
  {
   "cell_type": "markdown",
   "id": "71affa15",
   "metadata": {},
   "source": [
    "**NOTE: So, fillna('Not Rated') method combines those values together and now total is 59.**"
   ]
  },
  {
   "cell_type": "code",
   "execution_count": null,
   "id": "74721b64",
   "metadata": {},
   "outputs": [],
   "source": []
  },
  {
   "cell_type": "markdown",
   "id": "9aec2588",
   "metadata": {},
   "source": [
    "## Step 8: Checking Frequency and Creating New Columns"
   ]
  },
  {
   "cell_type": "markdown",
   "id": "5474281c",
   "metadata": {},
   "source": [
    "### Frequency Table of Genres:"
   ]
  },
  {
   "cell_type": "code",
   "execution_count": 19,
   "id": "6bf9598a",
   "metadata": {},
   "outputs": [
    {
     "name": "stdout",
     "output_type": "stream",
     "text": [
      "genre\n",
      "Comedy                 182\n",
      "Adventure              129\n",
      "Drama                  114\n",
      "Action                  40\n",
      "Thriller/Suspense       24\n",
      "Romantic Comedy         23\n",
      "Musical                 16\n",
      "Documentary             16\n",
      "Western                  7\n",
      "Horror                   6\n",
      "Black Comedy             3\n",
      "Concert/Performance      2\n",
      "None                    17\n",
      "Name: count, dtype: int64\n"
     ]
    }
   ],
   "source": [
    "# Create a frequency table of genres\n",
    "genre_counts = disney['genre'].value_counts()\n",
    "\n",
    "# Separate 'None' from other genres\n",
    "none_count = genre_counts.get('None', 0)  # Get the count for 'None'\n",
    "genre_counts = genre_counts.drop('None')  # Remove 'None' from the frequency table\n",
    "\n",
    "# Sort genres by frequency (numerical order)\n",
    "genre_counts = genre_counts.sort_values(ascending=False)\n",
    "\n",
    "# Add 'None' back at the end\n",
    "genre_counts['None'] = none_count\n",
    "\n",
    "# Print the frequency table\n",
    "print(genre_counts)"
   ]
  },
  {
   "cell_type": "markdown",
   "id": "cad1eedf",
   "metadata": {},
   "source": [
    "### Combining Lower Genres:"
   ]
  },
  {
   "cell_type": "code",
   "execution_count": 20,
   "id": "ea741227-6a78-4a6a-8afc-ed9f9a2401f6",
   "metadata": {
    "tags": []
   },
   "outputs": [],
   "source": [
    "# Replace specific genres with broader categories\n",
    "disney.loc[disney['genre'] == \"Black Comedy\", 'genre'] = \"Comedy\"\n",
    "disney.loc[disney['genre'] == \"Concert/Performance\", 'genre'] = \"Musical\"\n",
    "disney.loc[disney['genre'] == \"Horror\", 'genre'] = \"Thriller/Suspense\"\n",
    "disney.loc[disney['genre'] == \"Western\", 'genre'] = \"Adventure\""
   ]
  },
  {
   "cell_type": "markdown",
   "id": "80a1ad85-6956-4181-81cf-cc2f986fa724",
   "metadata": {},
   "source": [
    "<strong>RESULTS</strong><br>\n",
    "I Considered grouping some of the lower frequency genres with larger groups:<br>\n",
    "* Black Comedy (count=3) --> combine with Comedy<br>\n",
    "* Concert/Performance (count=2) --> combine with Musical<br>\n",
    "* Horror (count=6) --> combine with Thriller/Suspense<br>\n",
    "* Western (count = 7) --> combine with Adventure</strong>"
   ]
  },
  {
   "cell_type": "markdown",
   "id": "ef38e072",
   "metadata": {},
   "source": [
    "### Frequency Table of MPAA Ratings:"
   ]
  },
  {
   "cell_type": "code",
   "execution_count": 21,
   "id": "5112de29",
   "metadata": {},
   "outputs": [
    {
     "name": "stdout",
     "output_type": "stream",
     "text": [
      "mpaa_rating\n",
      "PG           187\n",
      "PG-13        145\n",
      "R            102\n",
      "G             86\n",
      "Not Rated     59\n",
      "Name: count, dtype: int64\n"
     ]
    }
   ],
   "source": [
    "# Create a frequency table of MPAA ratings\n",
    "rating_counts = disney['mpaa_rating'].value_counts()\n",
    "\n",
    "# Separate 'Not Rated' from other ratings\n",
    "not_rated_count = rating_counts.get('Not Rated', 0)  # Get the count for 'Not Rated'\n",
    "rating_counts = rating_counts.drop('Not Rated')      # Remove 'Not Rated' from the frequency table\n",
    "\n",
    "# Sort ratings by frequency (numerical order)\n",
    "rating_counts = rating_counts.sort_values(ascending=False)\n",
    "\n",
    "# Add 'Not Rated' back at the end\n",
    "rating_counts['Not Rated'] = not_rated_count\n",
    "\n",
    "# Print the frequency table\n",
    "print(rating_counts)"
   ]
  },
  {
   "cell_type": "markdown",
   "id": "ac81f21d",
   "metadata": {},
   "source": [
    "<strong>RESULTS</strong><br>\n",
    "Because of high frequency numbers, I did not combine any rating."
   ]
  },
  {
   "cell_type": "code",
   "execution_count": null,
   "id": "b7c96e58",
   "metadata": {},
   "outputs": [],
   "source": []
  },
  {
   "cell_type": "markdown",
   "id": "074300c7",
   "metadata": {},
   "source": [
    "### Frequency of the release_date"
   ]
  },
  {
   "cell_type": "code",
   "execution_count": 22,
   "id": "0b99a620-1af6-4452-b7ef-2e99c3114013",
   "metadata": {
    "tags": []
   },
   "outputs": [
    {
     "name": "stdout",
     "output_type": "stream",
     "text": [
      "year\n",
      "1937     1\n",
      "1940     2\n",
      "1946     1\n",
      "1950     1\n",
      "1954     1\n",
      "1955     1\n",
      "1959     1\n",
      "1961     3\n",
      "1962     1\n",
      "1963     1\n",
      "1967     1\n",
      "1968     1\n",
      "1970     2\n",
      "1971     1\n",
      "1975     1\n",
      "1977     4\n",
      "1979     1\n",
      "1980     2\n",
      "1981     4\n",
      "1982     3\n",
      "1983     4\n",
      "1984     2\n",
      "1985     6\n",
      "1986     7\n",
      "1987    10\n",
      "1988    12\n",
      "1989    11\n",
      "1990    15\n",
      "1991    16\n",
      "1992    22\n",
      "1993    27\n",
      "1994    30\n",
      "1995    32\n",
      "1996    28\n",
      "1997    23\n",
      "1998    22\n",
      "1999    21\n",
      "2000    19\n",
      "2001    14\n",
      "2002    22\n",
      "2003    19\n",
      "2004    19\n",
      "2005    17\n",
      "2006    19\n",
      "2007    14\n",
      "2008    13\n",
      "2009    16\n",
      "2010    14\n",
      "2011    14\n",
      "2012    10\n",
      "2013    11\n",
      "2014    12\n",
      "2015    11\n",
      "2016    14\n",
      "Name: count, dtype: int64\n"
     ]
    }
   ],
   "source": [
    "# Extract the year from 'release_date' and create a new 'year' column\n",
    "disney['year'] = disney['release_date'].dt.year\n",
    "\n",
    "# Get the frequency table of 'year'\n",
    "year_counts = disney['year'].value_counts().sort_index()\n",
    "\n",
    "print(year_counts)"
   ]
  },
  {
   "cell_type": "code",
   "execution_count": null,
   "id": "26901959",
   "metadata": {},
   "outputs": [],
   "source": []
  },
  {
   "cell_type": "markdown",
   "id": "42e40645",
   "metadata": {},
   "source": [
    "### Combining years and Creating a New Column:"
   ]
  },
  {
   "cell_type": "code",
   "execution_count": 23,
   "id": "28ad3323-9778-489c-a0c4-519f67f35945",
   "metadata": {
    "tags": []
   },
   "outputs": [
    {
     "name": "stdout",
     "output_type": "stream",
     "text": [
      "year2\n",
      "1980-1990     61\n",
      "1990-1995    110\n",
      "1995-2000    126\n",
      "2000-2005     93\n",
      "2005-2010     79\n",
      "2010-2016     86\n",
      "Pre-1980      24\n",
      "Name: count, dtype: int64\n"
     ]
    }
   ],
   "source": [
    "# Create a new 'year2' column with default value as an empty string\n",
    "disney['year2'] = \"\"\n",
    "\n",
    "# Apply conditions to categorize years\n",
    "disney.loc[disney['year'] < 1980, 'year2'] = \"Pre-1980\"\n",
    "disney.loc[(disney['year'] >= 1980) & (disney['year'] < 1990), 'year2'] = \"1980-1990\"\n",
    "disney.loc[(disney['year'] >= 1990) & (disney['year'] < 1995), 'year2'] = \"1990-1995\"\n",
    "disney.loc[(disney['year'] >= 1995) & (disney['year'] < 2000), 'year2'] = \"1995-2000\"\n",
    "disney.loc[(disney['year'] >= 2000) & (disney['year'] < 2005), 'year2'] = \"2000-2005\"\n",
    "disney.loc[(disney['year'] >= 2005) & (disney['year'] < 2010), 'year2'] = \"2005-2010\"\n",
    "disney.loc[disney['year'] >= 2010, 'year2'] = \"2010-2016\"\n",
    "\n",
    "# Get the frequency table of 'year2'\n",
    "year2_counts = disney['year2'].value_counts().sort_index()\n",
    "\n",
    "print(year2_counts)"
   ]
  },
  {
   "cell_type": "code",
   "execution_count": null,
   "id": "e1ab80a1",
   "metadata": {},
   "outputs": [],
   "source": []
  },
  {
   "cell_type": "code",
   "execution_count": null,
   "id": "cd2b58d0",
   "metadata": {},
   "outputs": [],
   "source": []
  },
  {
   "cell_type": "markdown",
   "id": "096e9a18",
   "metadata": {},
   "source": [
    "## Step 9: Summary Stats and Visualizations"
   ]
  },
  {
   "cell_type": "markdown",
   "id": "a2d078b6",
   "metadata": {},
   "source": [
    "### Summary Stats of Total Gross and Inflation Adjusted Gross:"
   ]
  },
  {
   "cell_type": "code",
   "execution_count": 24,
   "id": "582886a4-a1ad-4900-b6e6-cf247c2f7989",
   "metadata": {
    "tags": []
   },
   "outputs": [
    {
     "name": "stdout",
     "output_type": "stream",
     "text": [
      "       total_gross  inflation_adjusted_gross\n",
      "count       579.00                    579.00\n",
      "mean   64701788.52              118762523.31\n",
      "std    93013006.12              286085280.04\n",
      "min           0.00                      0.00\n",
      "25%    12788864.00               22741232.00\n",
      "50%    30702446.00               55159783.00\n",
      "75%    75709033.00              119202000.00\n",
      "max   936662225.00             5228953251.00\n"
     ]
    }
   ],
   "source": [
    "numeric_stats = disney[['total_gross', 'inflation_adjusted_gross']].describe()\n",
    "print(numeric_stats)"
   ]
  },
  {
   "cell_type": "markdown",
   "id": "a213b1ae",
   "metadata": {},
   "source": [
    "### Histogram for Total Gross:"
   ]
  },
  {
   "cell_type": "code",
   "execution_count": 25,
   "id": "796f901d",
   "metadata": {},
   "outputs": [
    {
     "data": {
      "image/png": "[encoded data removed]",
      "text/plain": [
       "<Figure size 640x480 with 1 Axes>"
      ]
     },
     "metadata": {},
     "output_type": "display_data"
    }
   ],
   "source": [
    "# Create a histogram of the 'total_gross' column\n",
    "disney['total_gross'].hist(bins=50)\n",
    "\n",
    "# Add a title to the plot\n",
    "plt.title('Histogram of Total Gross Revenue for Disney Movies')\n",
    "\n",
    "# Show the plot\n",
    "plt.show()"
   ]
  },
  {
   "cell_type": "markdown",
   "id": "5bbd9f1b",
   "metadata": {},
   "source": [
    "### Histogram for Inflation Adjusted Gross:"
   ]
  },
  {
   "cell_type": "code",
   "execution_count": 26,
   "id": "083e32ed-d416-4ed2-a555-90f1d3078445",
   "metadata": {
    "scrolled": true,
    "tags": []
   },
   "outputs": [
    {
     "data": {
      "image/png": "[encoded data removed]",
      "text/plain": [
       "<Figure size 600x300 with 1 Axes>"
      ]
     },
     "metadata": {},
     "output_type": "display_data"
    }
   ],
   "source": [
    "import matplotlib.pyplot as plt\n",
    "\n",
    "# Set the figure size\n",
    "plt.figure(figsize=(6, 3))  # Width and height in inches\n",
    "\n",
    "# Create a histogram of the 'inflation_adjusted_gross' column\n",
    "disney['inflation_adjusted_gross'].hist(bins=50)  \n",
    "\n",
    "# Add a title to the plot\n",
    "plt.title('Distribution of Inflation-Adjusted Revenue for Disney Movies')\n",
    "\n",
    "# Show the plot\n",
    "plt.show()"
   ]
  },
  {
   "cell_type": "code",
   "execution_count": null,
   "id": "7f30e4f1",
   "metadata": {},
   "outputs": [],
   "source": []
  },
  {
   "cell_type": "markdown",
   "id": "46edd430",
   "metadata": {},
   "source": [
    "### Grouped by Mean Genre:"
   ]
  },
  {
   "cell_type": "code",
   "execution_count": 27,
   "id": "91d921aa-b08d-4ed6-aa2a-5fee9ae5ac4a",
   "metadata": {
    "tags": []
   },
   "outputs": [
    {
     "name": "stdout",
     "output_type": "stream",
     "text": [
      "                   total_gross  inflation_adjusted_gross\n",
      "genre                                                   \n",
      "Action            104614082.05              137473419.65\n",
      "Adventure         123147653.76              184396883.12\n",
      "Comedy             44417096.70               84141931.83\n",
      "Documentary        11292851.19               12718026.12\n",
      "Drama              36026078.68               71893021.79\n",
      "Musical            70041145.61              542910414.11\n",
      "None                6943941.94               21623728.47\n",
      "Romantic Comedy    50095950.22               77777084.04\n",
      "Thriller/Suspense  49795846.37               76405801.53\n"
     ]
    }
   ],
   "source": [
    "grouped_means = disney.groupby('genre', dropna=False).agg({\n",
    "    disney.columns[4]: 'mean', disney.columns[5]: 'mean'})\n",
    "print(grouped_means)"
   ]
  },
  {
   "cell_type": "code",
   "execution_count": null,
   "id": "a6378e3a",
   "metadata": {},
   "outputs": [],
   "source": []
  },
  {
   "cell_type": "markdown",
   "id": "8e1573ea",
   "metadata": {},
   "source": [
    "### Ranking Grouped by Mean Genre:"
   ]
  },
  {
   "cell_type": "code",
   "execution_count": 28,
   "id": "d2faaf02",
   "metadata": {},
   "outputs": [
    {
     "name": "stdout",
     "output_type": "stream",
     "text": [
      "rank_total_gross: genre\n",
      "Action              2.00\n",
      "Adventure           1.00\n",
      "Comedy              6.00\n",
      "Documentary         8.00\n",
      "Drama               7.00\n",
      "Musical             3.00\n",
      "None                9.00\n",
      "Romantic Comedy     4.00\n",
      "Thriller/Suspense   5.00\n",
      "Name: rank_total_gross, dtype: float64\n",
      "rank_inflation_adjusted: genre\n",
      "Action              3.00\n",
      "Adventure           2.00\n",
      "Comedy              4.00\n",
      "Documentary         9.00\n",
      "Drama               7.00\n",
      "Musical             1.00\n",
      "None                8.00\n",
      "Romantic Comedy     5.00\n",
      "Thriller/Suspense   6.00\n",
      "Name: rank_inflation_adjusted, dtype: float64\n",
      "genre\n",
      "Action               5.00\n",
      "Adventure            3.00\n",
      "Comedy              10.00\n",
      "Documentary         17.00\n",
      "Drama               14.00\n",
      "Musical              4.00\n",
      "None                17.00\n",
      "Romantic Comedy      9.00\n",
      "Thriller/Suspense   11.00\n",
      "Name: combined_rank, dtype: float64\n"
     ]
    }
   ],
   "source": [
    "# Step 1: Rank genres independently by total_gross and inflation_adjusted_gross\n",
    "grouped_means['rank_total_gross'] = grouped_means['total_gross'].rank(ascending=False)\n",
    "print(\"rank_total_gross:\", grouped_means['rank_total_gross'])\n",
    "\n",
    "grouped_means['rank_inflation_adjusted'] = grouped_means['inflation_adjusted_gross'].rank(ascending=False)\n",
    "print(\"rank_inflation_adjusted:\", grouped_means['rank_inflation_adjusted'])\n",
    "\n",
    "# Step 2: Combine the ranks (e.g., sum of ranks)\n",
    "grouped_means['combined_rank'] = grouped_means['rank_total_gross'] + grouped_means['rank_inflation_adjusted']\n",
    "print(grouped_means['combined_rank'])"
   ]
  },
  {
   "cell_type": "code",
   "execution_count": null,
   "id": "e0d16f23",
   "metadata": {},
   "outputs": [],
   "source": []
  },
  {
   "cell_type": "markdown",
   "id": "a9660302",
   "metadata": {},
   "source": [
    "### Sorted Ranking Grouped by Mean Genre:"
   ]
  },
  {
   "cell_type": "code",
   "execution_count": 29,
   "id": "3f18d45a",
   "metadata": {},
   "outputs": [
    {
     "name": "stdout",
     "output_type": "stream",
     "text": [
      "                   total_gross  inflation_adjusted_gross  rank_total_gross  \\\n",
      "genre                                                                        \n",
      "Adventure         123147653.76              184396883.12              1.00   \n",
      "Musical            70041145.61              542910414.11              3.00   \n",
      "Action            104614082.05              137473419.65              2.00   \n",
      "Romantic Comedy    50095950.22               77777084.04              4.00   \n",
      "Comedy             44417096.70               84141931.83              6.00   \n",
      "Thriller/Suspense  49795846.37               76405801.53              5.00   \n",
      "Drama              36026078.68               71893021.79              7.00   \n",
      "Documentary        11292851.19               12718026.12              8.00   \n",
      "None                6943941.94               21623728.47              9.00   \n",
      "\n",
      "                   rank_inflation_adjusted  combined_rank  \n",
      "genre                                                      \n",
      "Adventure                             2.00           3.00  \n",
      "Musical                               1.00           4.00  \n",
      "Action                                3.00           5.00  \n",
      "Romantic Comedy                       5.00           9.00  \n",
      "Comedy                                4.00          10.00  \n",
      "Thriller/Suspense                     6.00          11.00  \n",
      "Drama                                 7.00          14.00  \n",
      "Documentary                           9.00          17.00  \n",
      "None                                  8.00          17.00  \n"
     ]
    }
   ],
   "source": [
    "# Step 3: Sort by the combined rank\n",
    "sorted_grouped_means = grouped_means.sort_values(by='combined_rank')\n",
    "\n",
    "# Print the sorted DataFrame\n",
    "print(sorted_grouped_means)"
   ]
  },
  {
   "cell_type": "code",
   "execution_count": null,
   "id": "7be2d92e",
   "metadata": {},
   "outputs": [],
   "source": []
  },
  {
   "cell_type": "markdown",
   "id": "f0b872d4",
   "metadata": {},
   "source": [
    "### Stack Bar Chart for Sorted Ranking Grouped by Mean Genre:"
   ]
  },
  {
   "cell_type": "code",
   "execution_count": 30,
   "id": "5e4cdb81",
   "metadata": {},
   "outputs": [
    {
     "data": {
      "image/png": "[encoded data removed]",
      "text/plain": [
       "<Figure size 1200x800 with 1 Axes>"
      ]
     },
     "metadata": {},
     "output_type": "display_data"
    }
   ],
   "source": [
    "import matplotlib.pyplot as plt\n",
    "import seaborn as sns\n",
    "from matplotlib.ticker import FuncFormatter\n",
    "\n",
    "# Function to format x-axis values\n",
    "def format_x_axis(value, _):\n",
    "    if value >= 1e9:\n",
    "        return f'{value / 1e9:.1f}B'  # Billion\n",
    "    elif value >= 1e6:\n",
    "        return f'{value / 1e6:.1f}M'  # Million\n",
    "    elif value >= 1e3:\n",
    "        return f'{value / 1e3:.1f}K'  # Thousand\n",
    "    else:\n",
    "        return f'{value:.0f}'  # No suffix\n",
    "\n",
    "# Set a style for the plots\n",
    "sns.set_style(\"whitegrid\")\n",
    "\n",
    "# Extract sorted data\n",
    "genres = sorted_grouped_means.index\n",
    "total_gross = sorted_grouped_means['total_gross']\n",
    "inflation_adjusted_gross = sorted_grouped_means['inflation_adjusted_gross']\n",
    "\n",
    "# Create a horizontal stacked bar chart\n",
    "plt.figure(figsize=(12, 8))  # Adjust figure size for better proportions\n",
    "\n",
    "# Plot stacked horizontal bars\n",
    "plt.barh(genres, total_gross, color='blue', alpha=0.8, edgecolor='black', label='Total Gross')\n",
    "plt.barh(genres, inflation_adjusted_gross, left=total_gross, color='green', alpha=0.8, edgecolor='black',\n",
    "         label='Inflation Adjusted Gross')\n",
    "\n",
    "# Add titles and labels\n",
    "plt.title('Stacked Gross Revenue by Genre', fontsize=16)\n",
    "plt.xlabel('Gross ($)', fontsize=12)\n",
    "plt.ylabel('Genre', fontsize=12)\n",
    "\n",
    "# Format x-axis with K, M, B suffixes\n",
    "plt.gca().xaxis.set_major_formatter(FuncFormatter(format_x_axis))\n",
    "\n",
    "# Add legend\n",
    "plt.legend(fontsize=10)\n",
    "\n",
    "# Optimize layout\n",
    "plt.tight_layout()\n",
    "\n",
    "# Show the plot\n",
    "plt.show()\n"
   ]
  },
  {
   "cell_type": "code",
   "execution_count": null,
   "id": "faaa11ee",
   "metadata": {},
   "outputs": [],
   "source": []
  },
  {
   "cell_type": "markdown",
   "id": "8829ec3c",
   "metadata": {},
   "source": [
    "### Median by Rating:"
   ]
  },
  {
   "cell_type": "code",
   "execution_count": 31,
   "id": "b5a52d26-b47c-4785-bf6b-c81ba9453b64",
   "metadata": {
    "tags": []
   },
   "outputs": [
    {
     "name": "stdout",
     "output_type": "stream",
     "text": [
      "             total_gross  inflation_adjusted_gross\n",
      "mpaa_rating                                       \n",
      "G            65140890.50              103154765.50\n",
      "Not Rated    12706478.00               32798382.00\n",
      "PG           50047179.00               69055550.00\n",
      "PG-13        32680633.00               51373912.00\n",
      "R            19168928.50               31587673.50\n"
     ]
    }
   ],
   "source": [
    "grouped_medians = disney.groupby('mpaa_rating', dropna=False).agg({\n",
    "    disney.columns[4]: 'median', disney.columns[5]: 'median'})\n",
    "print(grouped_medians)"
   ]
  },
  {
   "cell_type": "markdown",
   "id": "9205770d",
   "metadata": {},
   "source": [
    "### Sorted Median Rating:"
   ]
  },
  {
   "cell_type": "code",
   "execution_count": 32,
   "id": "c7651764",
   "metadata": {},
   "outputs": [
    {
     "name": "stdout",
     "output_type": "stream",
     "text": [
      "             total_gross  inflation_adjusted_gross\n",
      "mpaa_rating                                       \n",
      "G            65140890.50              103154765.50\n",
      "PG           50047179.00               69055550.00\n",
      "PG-13        32680633.00               51373912.00\n",
      "R            19168928.50               31587673.50\n",
      "Not Rated    12706478.00               32798382.00\n"
     ]
    }
   ],
   "source": [
    "# Sort by both columns in descending order\n",
    "sorted_grouped_medians = grouped_medians.sort_values(\n",
    "    by=[disney.columns[4], disney.columns[5]], \n",
    "    ascending=False\n",
    ")\n",
    "\n",
    "print(sorted_grouped_medians)"
   ]
  },
  {
   "cell_type": "markdown",
   "id": "e3728701",
   "metadata": {},
   "source": [
    "### Bar Chart for Sorted Median mpaa_rating:"
   ]
  },
  {
   "cell_type": "code",
   "execution_count": 33,
   "id": "ccdc4009",
   "metadata": {},
   "outputs": [
    {
     "data": {
      "image/png": "[encoded data removed]",
      "text/plain": [
       "<Figure size 1200x600 with 1 Axes>"
      ]
     },
     "metadata": {},
     "output_type": "display_data"
    }
   ],
   "source": [
    "import matplotlib.pyplot as plt\n",
    "import seaborn as sns\n",
    "from matplotlib.ticker import FuncFormatter\n",
    "\n",
    "# Function to format y-axis values\n",
    "def format_y_axis(value, _):\n",
    "    if value >= 1e9:\n",
    "        return f'{value / 1e9:.1f}B'  # Billion\n",
    "    elif value >= 1e6:\n",
    "        return f'{value / 1e6:.1f}M'  # Million\n",
    "    elif value >= 1e3:\n",
    "        return f'{value / 1e3:.1f}K'  # Thousand\n",
    "    else:\n",
    "        return f'{value:.0f}'  # No suffix\n",
    "\n",
    "# Set a style for the plots\n",
    "sns.set_style(\"whitegrid\")\n",
    "\n",
    "# Create a bar chart to visualize the data\n",
    "plt.figure(figsize=(12, 6))  # Adjust figure size for better proportions\n",
    "\n",
    "# Plot total_gross and inflation_adjusted_gross as grouped bars\n",
    "x = sorted_grouped_medians.index  # MPAA ratings (categories)\n",
    "total_gross = sorted_grouped_medians['total_gross']\n",
    "inflation_adjusted_gross = sorted_grouped_medians['inflation_adjusted_gross']\n",
    "\n",
    "bar_width = 0.35  # Adjust bar width for better proportions\n",
    "indices = range(len(x))  # Positions for the bars\n",
    "\n",
    "# Plot the bars for total_gross\n",
    "plt.bar([i - bar_width / 2 for i in indices], total_gross, width=bar_width, \n",
    "        label='Total Gross', color='blue', alpha=0.8, edgecolor='black')\n",
    "\n",
    "# Plot the bars for inflation_adjusted_gross (next to total_gross)\n",
    "plt.bar([i + bar_width / 2 for i in indices], inflation_adjusted_gross, \n",
    "        width=bar_width, label='Inflation Adjusted Gross', color='green', alpha=0.8, edgecolor='black')\n",
    "\n",
    "# Add titles and labels\n",
    "plt.title('Median Gross by MPAA Rating', fontsize=16)\n",
    "plt.xlabel('MPAA Rating', fontsize=12)\n",
    "plt.ylabel('Gross ($)', fontsize=12)\n",
    "plt.xticks(indices, x, fontsize=10)  # Center the labels between bars\n",
    "plt.legend(fontsize=10)\n",
    "\n",
    "# Format y-axis with K, M, B suffixes\n",
    "plt.gca().yaxis.set_major_formatter(FuncFormatter(format_y_axis))\n",
    "\n",
    "# Optimize layout\n",
    "plt.tight_layout()\n",
    "\n",
    "# Show the plot\n",
    "plt.show()"
   ]
  },
  {
   "cell_type": "code",
   "execution_count": null,
   "id": "32aab349",
   "metadata": {},
   "outputs": [],
   "source": []
  },
  {
   "cell_type": "markdown",
   "id": "b67aa9dd",
   "metadata": {},
   "source": [
    "#### Total by Combined Year (year2):"
   ]
  },
  {
   "cell_type": "code",
   "execution_count": 34,
   "id": "a8de8d84",
   "metadata": {},
   "outputs": [
    {
     "name": "stdout",
     "output_type": "stream",
     "text": [
      "           total_gross  inflation_adjusted_gross\n",
      "year2                                           \n",
      "1980-1990   2114540747                4636550126\n",
      "1990-1995   3909348889                7752004425\n",
      "1995-2000   5499197391                9991300084\n",
      "2000-2005   5861459834                8430031336\n",
      "2005-2010   6018210432                7361472013\n",
      "2010-2016  12779742349               13150493912\n",
      "Pre-1980    1279835911               17441649101\n"
     ]
    }
   ],
   "source": [
    "grouped_sums = disney.groupby(disney['year2']).agg({\n",
    "    disney.columns[4]: 'sum', \n",
    "    disney.columns[5]: 'sum'\n",
    "})\n",
    "print(grouped_sums)"
   ]
  },
  {
   "cell_type": "markdown",
   "id": "a98b4e50",
   "metadata": {},
   "source": [
    "#### Sorted Total by Combined Year (year2):"
   ]
  },
  {
   "cell_type": "code",
   "execution_count": 35,
   "id": "61bcb9d9",
   "metadata": {
    "scrolled": true
   },
   "outputs": [
    {
     "name": "stdout",
     "output_type": "stream",
     "text": [
      "           total_gross  inflation_adjusted_gross\n",
      "year2                                           \n",
      "Pre-1980    1279835911               17441649101\n",
      "2010-2016  12779742349               13150493912\n",
      "2005-2010   6018210432                7361472013\n",
      "2000-2005   5861459834                8430031336\n",
      "1995-2000   5499197391                9991300084\n",
      "1990-1995   3909348889                7752004425\n",
      "1980-1990   2114540747                4636550126\n"
     ]
    }
   ],
   "source": [
    "# Sort the results by 'release_date' in descending order\n",
    "sorted_grouped_sums = grouped_sums.sort_index(ascending=False)\n",
    "\n",
    "print(sorted_grouped_sums)"
   ]
  },
  {
   "cell_type": "markdown",
   "id": "177e841e",
   "metadata": {},
   "source": [
    "#### Line Chart for Sorted Total by Combined Year (year2):"
   ]
  },
  {
   "cell_type": "code",
   "execution_count": 36,
   "id": "4ebe1ae0",
   "metadata": {},
   "outputs": [
    {
     "data": {
      "image/png": "[encoded data removed]",
      "text/plain": [
       "<Figure size 1400x600 with 2 Axes>"
      ]
     },
     "metadata": {},
     "output_type": "display_data"
    }
   ],
   "source": [
    "# Function to format y-axis values\n",
    "def format_y_axis(value, _):\n",
    "    if value >= 1e9:\n",
    "        return f'{value / 1e9:.1f}B'  # Billion\n",
    "    elif value >= 1e6:\n",
    "        return f'{value / 1e6:.1f}M'  # Million\n",
    "    elif value >= 1e3:\n",
    "        return f'{value / 1e3:.1f}K'  # Thousand\n",
    "    else:\n",
    "        return f'{value:.0f}'  # No suffix\n",
    "\n",
    "# Set a style for the plots\n",
    "sns.set_style(\"whitegrid\")\n",
    "\n",
    "# Extract sorted data\n",
    "x = sorted_grouped_sums.index  # Year categories\n",
    "total_gross = sorted_grouped_sums['total_gross']\n",
    "inflation_adjusted_gross = sorted_grouped_sums['inflation_adjusted_gross']\n",
    "\n",
    "# Create subplots\n",
    "fig, axes = plt.subplots(1, 2, figsize=(14, 6), sharey=True)  # Two side-by-side plots\n",
    "\n",
    "# Plot filled line for total_gross\n",
    "axes[0].plot(x, total_gross, color='blue', marker='o', linestyle='-', label='Total Gross')\n",
    "axes[0].fill_between(x, total_gross, color='blue', alpha=0.3)  # Fill area below the line\n",
    "axes[0].set_title('Total Gross by Release Year Range', fontsize=14)\n",
    "axes[0].set_xlabel('Release Year Range', fontsize=12)\n",
    "axes[0].set_ylabel('Gross ($)', fontsize=12)\n",
    "axes[0].yaxis.set_major_formatter(FuncFormatter(format_y_axis))  # Format y-axis\n",
    "axes[0].tick_params(axis='x', rotation=45)  # Rotate x-axis labels for readability\n",
    "axes[0].legend()\n",
    "\n",
    "# Plot filled line for inflation_adjusted_gross\n",
    "axes[1].plot(x, inflation_adjusted_gross, color='green', marker='o', linestyle='-', \n",
    "             label='Inflation Adjusted Gross')\n",
    "axes[1].fill_between(x, inflation_adjusted_gross, color='green', alpha=0.3)  # Fill area below the line\n",
    "axes[1].set_title('Inflation Adjusted Gross by Release Year Range', fontsize=14)\n",
    "axes[1].set_xlabel('Release Year Range', fontsize=12)\n",
    "axes[1].yaxis.set_major_formatter(FuncFormatter(format_y_axis))  # Format y-axis\n",
    "axes[1].tick_params(axis='x', rotation=45)  # Rotate x-axis labels for readability\n",
    "axes[1].legend()\n",
    "\n",
    "# Adjust layout for better spacing\n",
    "plt.tight_layout()\n",
    "\n",
    "# Show the plots\n",
    "plt.show()\n"
   ]
  }
 ],
 "metadata": {
  "kernelspec": {
   "display_name": "Python 3 (ipykernel)",
   "language": "python",
   "name": "python3"
  },
  "language_info": {
   "codemirror_mode": {
    "name": "ipython",
    "version": 3
   },
   "file_extension": ".py",
   "mimetype": "text/x-python",
   "name": "python",
   "nbconvert_exporter": "python",
   "pygments_lexer": "ipython3",
   "version": "3.11.5"
  }
 },
 "nbformat": 4,
 "nbformat_minor": 5
}
